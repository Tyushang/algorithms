{
 "cells": [
  {
   "cell_type": "markdown",
   "source": [
    "# Spline Interpolation\n",
    "formula of spline:\n",
    "![](https://mathworld.wolfram.com/B-Spline.html)\n",
    "![](https://docs.scipy.org/doc/scipy/reference/generated/scipy.interpolate.BSpline.html)\n",
    "\n",
    "- Spline is combination of b-spline(basis spline);\n",
    "- Spline used in interpolation(spline pass through samples), approximation(samples may not on spline).\n",
    "- A spline curve is determined by (t--knots / c--coefficients / k--order) uniquely.\n",
    "- order = len(knots) - len(coef) - 1 ;\n",
    "- u is parameter in parametric method by convention;\n",
    "- (t0, t1, ..., tn) = t below, means knots by convention;\n",
    "\n",
    "- How to determine u? This is a topic.\n",
    "- How to determine t? This is a topic.\n",
    "\n",
    "Spline interpolation requires two essential steps:\n",
    "1. a spline representation of the curve is computed, use `splrep` or `splprep`;\n",
    "    - i.e. given samples, return (t, c, k) which determine a spline uniquely.\n",
    "2. the spline is evaluated at the desired points, use `splev`;\n",
    "\n",
    "In order to find the spline representation, there are two different ways to represent a curve and obtain (smoothing) spline coefficients: directly and parametrically.\n",
    "1. The direct method(1-D interpolation): finds the spline representation of a curve in a 2-D plane.\n",
    "    - use `splrep`;\n",
    "    - function form: x -> y , aka interpolation in 1-D(coz y is 1-D);\n",
    "2. The parametric method(N-D interpolation):\n",
    "    - use `splprep`, p means parametric;\n",
    "    - function form: t -> (x, y, z, ...) , aka interpolation in N-D;\n",
    "\n",
    "## splrep: Spline interpolation in 1-D\n",
    "`splrep(x, y, w=None, xb=None, xe=None, k=3, task=0, s=None, t=None, full_output=0, per=0, quiet=1)`;\n",
    "- input:\n",
    "    - x, y: array_like, The data points defining a curve y = f(x);\n",
    "    - w: array_like, len(w) = len(x), used to compute weighted LS spline fit;\n",
    "    - k: The order of the spline. cubic splines recommended;\n",
    "    - s: A smoothing condition. used in LS fit condition: $sum((w * (y - g))**2) <= s$\n",
    "        - larger s means: more smooth(more straight) but less fit;\n",
    "        - smaller s means: less smooth(more bent) but more fit;\n",
    "        - s = 0(interpolating) if no weights are supplied;\n",
    "The normal output is a 3-tuple, (t, c, k), which means:\n",
    "    - t : knots;\n",
    "    - c : coefficients;\n",
    "    - k : order of the spline;\n",
    "\n",
    "## splprep: Spline interpolation in N-D\n",
    "`splprep(x, w=None, u=None, ub=None, ue=None, k=3, task=0, s=None, t=None, full_output=0, nest=None, per=0, quiet=1):`\n",
    "- input:\n",
    "    - x: array_like, The samples;\n",
    "    - w: array_like, len(w) = len(x), used to compute weighted LS spline fit;\n",
    "    - u: array_like, parameter! value range: [0, 1], to identify the position of samples;\n",
    "    - k: The order of the spline. cubic splines recommended;\n",
    "    - s: A smoothing condition. used in LS fit condition: $sum((w * (y - g))**2) <= s$ ;\n",
    "        - larger s means: more smooth(more straight) but less fit;\n",
    "        - smaller s means: less smooth(more bent) but more fit;\n",
    "        - s = 0(interpolating) if no weights are supplied;\n",
    "- output:\n",
    "    - t : knots;\n",
    "    - c : coefficients;\n",
    "    - k : order of the spline;\n",
    "    - u : same as input if input is supplied;\n",
    "\n",
    "- if s = 0, `splev(u, (t,c,k))` = samples;\n",
    "- N-D interpolation is a group of 1-D interpolation(share knots and order, but independent coef);\n",
    "- Control Point: in N-D interpolation, coef of every sub 1-D spline compose control point.\n",
    "    - e.g. (cx, cy, cz) is a control point.\n"
   ],
   "metadata": {
    "collapsed": false,
    "pycharm": {
     "name": "#%% md\n"
    }
   }
  },
  {
   "cell_type": "code",
   "execution_count": 2,
   "outputs": [
    {
     "data": {
      "text/plain": "<Figure size 432x288 with 1 Axes>",
      "image/png": "[encoded data removed]"
     },
     "metadata": {
      "needs_background": "light"
     },
     "output_type": "display_data"
    },
    {
     "name": "stdout",
     "output_type": "stream",
     "text": [
      "k=3 = len(t)=11 - len(c[0])=7 - 1\n"
     ]
    }
   ],
   "source": [
    "import numpy as np\n",
    "import matplotlib.pyplot as plt\n",
    "from scipy.interpolate import splprep, splev\n",
    "\n",
    "x = np.arange(0, 2 * np.pi + np.pi / 4, 2 * np.pi / 8)\n",
    "y = np.sin(x) + np.random.random(len(x)) / 4\n",
    "\n",
    "# returned u = input u if input u is provided.\n",
    "(t, c, k), u = splprep(\n",
    "    [x, y],\n",
    "    s=.01,  # smoothness, if s=0, (x, y) will be on spline(this is interpolation?).\n",
    "    k=3,\n",
    "    w=np.ones_like(x),  # weights for every sample?\n",
    "    u=(x / max(x)))\n",
    "\n",
    "new_u  = np.linspace(-0.05, 1.05, 60)\n",
    "spline = splev(new_u, (t, c, k))\n",
    "knots  = splev(t, (t, c, k))\n",
    "control_points = c\n",
    "\n",
    "fig, ax = plt.subplots()\n",
    "ax.plot(x, y, 'ro')\n",
    "ax.plot(*spline, '-')\n",
    "ax.plot(*knots, 'g^')\n",
    "ax.plot(*control_points, '.--')\n",
    "plt.legend(['Sample', 'spline', 'Knot', 'ControlPoint'])\n",
    "plt.show()\n",
    "\n",
    "# k = len(t) - len(c[0])\n",
    "print(f'k={k} = len(t)={len(t)} - len(c[0])={len(c[0])} - 1')\n",
    "\n",
    "\n"
   ],
   "metadata": {
    "collapsed": false,
    "pycharm": {
     "name": "#%%\n"
    }
   }
  }
 ],
 "metadata": {
  "kernelspec": {
   "display_name": "Python 3",
   "language": "python",
   "name": "python3"
  },
  "language_info": {
   "codemirror_mode": {
    "name": "ipython",
    "version": 2
   },
   "file_extension": ".py",
   "mimetype": "text/x-python",
   "name": "python",
   "nbconvert_exporter": "python",
   "pygments_lexer": "ipython2",
   "version": "2.7.6"
  }
 },
 "nbformat": 4,
 "nbformat_minor": 0
}